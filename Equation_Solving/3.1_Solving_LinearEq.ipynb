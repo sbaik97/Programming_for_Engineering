{
 "cells": [
  {
   "cell_type": "markdown",
   "metadata": {},
   "source": [
    "## Task 3: Equation Solving\n",
    "\n",
    "Systems of equations are solved by finding variable values that satisfy all of the equations. With linear systems of equations, there is typically a unique solution that is easy to solve, even for large-scale systems. Nonlinear equations can be more challenging to solve and may have multiple solutions. Variable bounds and a good initial guess are sometimes required for nonlinear systems of equations. This section is to solve systems of: \n",
    "\n",
    "* Linear systems of equations\n",
    "* Nonlinear systems of equations"
   ]
  },
  {
   "cell_type": "markdown",
   "metadata": {},
   "source": [
    "##  # 3-1. Linear algebraic equations  \n",
    "\n",
    "Solve the following systems of linear algebraic equations $\\left(A\\,x = b\\right)$ using matrix calculations such as:\n",
    "\n",
    "$\\left[ {\\begin{array}{cc} 1 & 2 \\\\ 1.5 & -1 \\\\ \\end{array} } \\right] \\left[ {\\begin{array}{c} x_0 \\\\ x_1 \\end{array} } \\right] = \\left[ {\\begin{array}{c} 0 \\\\ 0.5 \\end{array} } \\right]$\n",
    "\n",
    "An array is defined with square brackets as a list or numpy array.\n",
    "\n",
    "***Vector:*** A vector (1D array) is:\n",
    "\n",
    "$b = \\left[ {\\begin{array}{c} 0 \\\\ 0.5 \\end{array} } \\right]$\n",
    "\n",
    "and is defined as a list:\n",
    "\n",
    "```python\n",
    "b = [0,0.5]\n",
    "```\n",
    "\n",
    "or as a numpy array:\n",
    "\n",
    "```python\n",
    "b = np.array([0,0.5])\n",
    "```\n",
    "\n",
    "***Matrix:*** A matrix (2D array) is:\n",
    "\n",
    "$A = \\left[ {\\begin{array}{cc} 1 & 2 \\\\ 1.5 & -1 \\\\ \\end{array} } \\right]$\n",
    "\n",
    "and is defined as a list:\n",
    "\n",
    "```python\n",
    "A = [[1.0, 2.0],[1.5,-1.0]]\n",
    "```\n",
    "\n",
    "or as a numpy array:\n",
    "\n",
    "```python\n",
    "A = np.array([[1.0, 2.0],[1.5,-1.0]])\n",
    "```"
   ]
  },
  {
   "cell_type": "markdown",
   "metadata": {},
   "source": [
    "***Solution Method #1:*** The solution to this set of equations can be found by inverting the matrix $A$ and multiplying by $b$ as $x=A^{-1}\\,b$.\n",
    "\n",
    "$\\left[ {\\begin{array}{c} x_0 \\\\ x_1 \\end{array} } \\right] = \\left[ {\\begin{array}{cc} 1 & 2 \\\\ 1.5 & -1 \\\\ \\end{array} } \\right]^{-1} \\left[ {\\begin{array}{c} 0 \\\\ 0.5 \\end{array} } \\right]$\n",
    "\n",
    "The inverse of a matrix can be found with the function ```np.linalg.inv```. Two matrices are multiplied together with the dot product with function ```np.dot```."
   ]
  },
  {
   "cell_type": "code",
   "execution_count": 1,
   "metadata": {},
   "outputs": [
    {
     "name": "stdout",
     "output_type": "stream",
     "text": [
      "[ 0.25  -0.125]\n"
     ]
    }
   ],
   "source": [
    "# practice problem\n",
    "import numpy as np\n",
    "A = [[1.0, 2.0],[1.5,-1.0]]\n",
    "b = [0,0.5]\n",
    "invA = np.linalg.inv(A)\n",
    "x = np.dot(invA,b)\n",
    "print(x)"
   ]
  },
  {
   "cell_type": "markdown",
   "metadata": {},
   "source": [
    "***Solution Method #2:*** The function ```np.linalg.solve``` can also be used to find ```x``` for linear systems of equations."
   ]
  },
  {
   "cell_type": "code",
   "execution_count": 2,
   "metadata": {},
   "outputs": [
    {
     "name": "stdout",
     "output_type": "stream",
     "text": [
      "[ 0.25  -0.125]\n"
     ]
    }
   ],
   "source": [
    "x = np.linalg.solve(A,b)\n",
    "print(x)"
   ]
  },
  {
   "cell_type": "markdown",
   "metadata": {},
   "source": [
    "***Parse Solution:*** Individual values can be accessed by referencing the specific location in the array. An array index starts with 0."
   ]
  },
  {
   "cell_type": "code",
   "execution_count": 3,
   "metadata": {},
   "outputs": [
    {
     "name": "stdout",
     "output_type": "stream",
     "text": [
      "0.25\n"
     ]
    }
   ],
   "source": [
    "print(x[0])"
   ]
  },
  {
   "cell_type": "markdown",
   "metadata": {},
   "source": [
    "***Last Value in Array:*** The last value of this array can be accessed with ```x[1]``` or with ```x[-1]```."
   ]
  },
  {
   "cell_type": "code",
   "execution_count": 4,
   "metadata": {},
   "outputs": [
    {
     "name": "stdout",
     "output_type": "stream",
     "text": [
      "-0.125\n",
      "-0.125\n"
     ]
    }
   ],
   "source": [
    "print(x[1])\n",
    "print(x[-1])"
   ]
  },
  {
   "cell_type": "markdown",
   "metadata": {},
   "source": [
    "***Array References:*** The second to last value of any array can be accessed with ```x[-2]```."
   ]
  },
  {
   "cell_type": "code",
   "execution_count": 5,
   "metadata": {},
   "outputs": [
    {
     "name": "stdout",
     "output_type": "stream",
     "text": [
      "0.25\n"
     ]
    }
   ],
   "source": [
    "print(x[-2])"
   ]
  },
  {
   "cell_type": "markdown",
   "metadata": {},
   "source": [
    "***Find the values of ```x``` that satisfy the following system of linear equations ($A \\, x = b$):***\n",
    "\n",
    "$\\left[ {\\begin{array}{ccccc} 11 & 3 & 0 & 1 & 2 \\\\ 0 & 4 & 2 & 0 & 1 \\\\ 3 & 2 & 7 & 1 & 0 \\\\ 4 & 0 & 4 & 10 & 1 \\\\ 2 & 5& 1 & 3 & 14 \\end{array} } \\right] \\left[ {\\begin{array}{c} x_0 \\\\ x_1 \\\\ x_2 \\\\ x_3 \\\\ x_4 \\end{array} } \\right] = \\left[ {\\begin{array}{c} 45 \\\\ 30 \\\\ 15 \\\\ 20 \\\\ 92 \\end{array} } \\right]$"
   ]
  },
  {
   "cell_type": "code",
   "execution_count": 6,
   "metadata": {},
   "outputs": [],
   "source": [
    "A = [[11.0, 3.0, 0.0,  1.0,  2.0],\\\n",
    "     [ 0.0, 4.0, 2.0,  0.0,  1.0],\\\n",
    "     [ 3.0, 2.0, 7.0,  1.0,  0.0],\\\n",
    "     [ 4.0, 0.0, 4.0, 10.0,  1.0],\\\n",
    "     [ 2.0, 5.0, 1.0,  3.0, 14.0]]\n",
    "b = [45.0, 30.0, 15.0, 20.0, 92.0]"
   ]
  },
  {
   "cell_type": "markdown",
   "metadata": {},
   "source": [
    "***Solve the equations with a different method and compare the solution to the one above.***"
   ]
  },
  {
   "cell_type": "code",
   "execution_count": 7,
   "metadata": {},
   "outputs": [
    {
     "name": "stdout",
     "output_type": "stream",
     "text": [
      "[ 1.42390247  6.89546722 -0.62518643  1.31366319  3.66850399]\n"
     ]
    }
   ],
   "source": [
    "x = np.linalg.solve(A,b)\n",
    "print(x)"
   ]
  },
  {
   "cell_type": "markdown",
   "metadata": {},
   "source": [
    "***Action:*** Print the last value of ```x```."
   ]
  },
  {
   "cell_type": "code",
   "execution_count": 8,
   "metadata": {},
   "outputs": [
    {
     "name": "stdout",
     "output_type": "stream",
     "text": [
      "3.668503988068219\n"
     ]
    }
   ],
   "source": [
    "print(x[-1])"
   ]
  },
  {
   "cell_type": "code",
   "execution_count": null,
   "metadata": {},
   "outputs": [],
   "source": []
  }
 ],
 "metadata": {
  "kernelspec": {
   "display_name": "Python 3",
   "language": "python",
   "name": "python3"
  },
  "language_info": {
   "codemirror_mode": {
    "name": "ipython",
    "version": 3
   },
   "file_extension": ".py",
   "mimetype": "text/x-python",
   "name": "python",
   "nbconvert_exporter": "python",
   "pygments_lexer": "ipython3",
   "version": "3.8.3"
  }
 },
 "nbformat": 4,
 "nbformat_minor": 2
}

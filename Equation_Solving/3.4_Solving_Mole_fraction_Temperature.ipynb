{
 "cells": [
  {
   "cell_type": "markdown",
   "metadata": {},
   "source": [
    "## Problem # 3-4\n",
    "\n",
    "Imagine mixing liquid benzene (species 1) and toluene (species 2) together in an initially empty container. At equilibrium, some of the liquid from both species evaporates into the vapor phase and some is left liquid phase for certain temperatures and pressures. In thermodynamics, you learn that Raoult’s law may be used to describe the distribution of species in each phase. For the specific example mentioned above, Raoult’s law gives the following two expressions describing the equilibrium state \n",
    "\n",
    "$y_1 \\, P = x_1 \\, P_1^{sat}(T)$\n",
    "$y_2 \\, P = x_2 \\, P_2^{sat}(T)$\n",
    "\n",
    "where $y_i$ is the mole fraction of species $i$ (either 1 or 2) in the vapor phase, $x_i$ is the mole fraction of species $i$ in the liquid phase, $P_i^{sat}(T)$ is the vapor pressure of species $i$ at the system temperature $T$, and $P$ is the system pressure.\n",
    "\n",
    "The vapor pressures of benzene and toluene can be found using the Antione Equation.\n",
    "\n",
    "$\\ln{\\left( P_i^{sat}(T) (in\\,kPa) \\right)} = A_i - \\frac{B_i}{T (in \\, ^oC) + C_i}$\n",
    "\n",
    "Note that $P_i^{sat}(T)$ is not $P_i^{sat}$ times $T$, but is simply showing that $P_i^{sat}$ is a function of $T$.  The constants, $A$, $B$, and $C$, are compound specific and are found in the table below.\n",
    "\n",
    "***Antoine Constants for Benzene and Toluene:***\n",
    "\n",
    "| Compound | A | B | C |\n",
    "| --- | --- | --- | --- |\n",
    "| Benzene | 13.7819 | 2726.81 | 217.572 |\n",
    "| Toluene | 13.9320 | 3056.96 | 217.625 |\n",
    "\n",
    "If a mixture of benzene (species 1) and toluene (species 2) has $y_1 = 0.33$ and $P = 120 \\, kPa$, find $x_1$ and $T$. Remember that the mole fractions of each phase must sum to 1.\n",
    "\n",
    "* First figure out what you are solving for.  Then figure out how many equations you have.\n",
    "* You might want to set up a function for $P_1^{sat}$ and $P_2^{sat}$ that are a function of $T$.\n",
    "* You should get about 0.17 for $x_1$ and $109 °C$ for $T$."
   ]
  },
  {
   "cell_type": "code",
   "execution_count": 1,
   "metadata": {},
   "outputs": [],
   "source": [
    "import numpy as np\n",
    "from scipy.optimize import fsolve\n",
    "\n",
    "y1 = 0.33 # mole-fr.\n",
    "y2 = 1-y1 # mole-fr.\n",
    "P =120 # 𝑘𝑃𝑎 \n",
    "\n",
    "# Antoine Constants \n",
    "# Benzene \n",
    "ac1 = [13.7819, 2726.81, 217.572]\n",
    "# Toluene:\n",
    "ac2 = [13.9320, 3056.96, 217.625]"
   ]
  },
  {
   "cell_type": "code",
   "execution_count": 2,
   "metadata": {},
   "outputs": [
    {
     "name": "stdout",
     "output_type": "stream",
     "text": [
      "180.45279253306998\n",
      "74.2597196691448\n"
     ]
    }
   ],
   "source": [
    "# define function for figuring out what you are solving for\n",
    "def Psat1(T):\n",
    "    return np.exp(ac1[0]-ac1[1]/(T+ac1[2]))\n",
    "print(Psat1(100))\n",
    "def Psat2(T):\n",
    "    return np.exp(ac2[0]-ac2[1]/(T+ac2[2]))\n",
    "print(Psat2(100))"
   ]
  },
  {
   "cell_type": "code",
   "execution_count": 3,
   "metadata": {},
   "outputs": [
    {
     "name": "stdout",
     "output_type": "stream",
     "text": [
      "[-6.125896451767723, 12.631976099408362, -0.10000000000000009]\n",
      "[109.13089106   0.17262755   0.82737245]\n",
      "The temperature is 109.13 oC.\n",
      "The Benzene mole fraction is 0.17.\n",
      "The Toluene mole fraction is 0.83.\n"
     ]
    }
   ],
   "source": [
    "# set up a function for  𝑃𝑠𝑎𝑡1  and  𝑃𝑠𝑎𝑡2  that are a function of  𝑇 .\n",
    "def f(z):\n",
    "    T, x1, x2 = z\n",
    "    f0 = y1*P-x1*Psat1(T)\n",
    "    f1 = y2*P-x2*Psat2(T)\n",
    "    f2 = x1+x2-1\n",
    "    return [f0, f1, f2]\n",
    "\n",
    "#guess value to make the residual zero\n",
    "print(f([109, 0.2, 0.7]))\n",
    "\n",
    "z = fsolve(f,[109, 0.2, 0.8])\n",
    "print(z)\n",
    "print(f'The temperature is {z[0]:.2f} oC.')\n",
    "print(f'The Benzene mole fraction is {z[1]:.2f}.')\n",
    "print(f'The Toluene mole fraction is {z[2]:.2f}.')"
   ]
  },
  {
   "cell_type": "code",
   "execution_count": null,
   "metadata": {},
   "outputs": [],
   "source": []
  },
  {
   "cell_type": "code",
   "execution_count": null,
   "metadata": {},
   "outputs": [],
   "source": []
  }
 ],
 "metadata": {
  "kernelspec": {
   "display_name": "Python 3",
   "language": "python",
   "name": "python3"
  },
  "language_info": {
   "codemirror_mode": {
    "name": "ipython",
    "version": 3
   },
   "file_extension": ".py",
   "mimetype": "text/x-python",
   "name": "python",
   "nbconvert_exporter": "python",
   "pygments_lexer": "ipython3",
   "version": "3.8.3"
  }
 },
 "nbformat": 4,
 "nbformat_minor": 2
}

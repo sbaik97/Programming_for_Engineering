{
 "cells": [
  {
   "cell_type": "markdown",
   "metadata": {},
   "source": [
    "## Problem # 3-3\n",
    "\n",
    "The Redlich/Kwong Equation of State is\n",
    "\n",
    "$P = \\frac{R_g \\, T}{V-b} - \\frac{a}{T^{1/2} \\, V \\, \\left(V+b\\right)}$\n",
    " \n",
    "where $T$ is the temperature, $V$ is the molar volume, $R_g$ is the universal gas constant, and $a$ and $b$ are compound-specific constants.  Find the molar volume of ethane for each phase that is present at $T = 77 \\, °C$ and $P = 1 \\, bar$.  For ethane, $a = 2.877×10^8 \\, \\frac{cm^6 bar K^{0.5}}{mol^2}$ and $b = 60.211 \\, \\frac{cm^3}{mol}$.\n",
    "\n",
    "* Use the ideal gas law to obtain the guess of the vapor volume and 1.1*b to obtain the guess for the liquid volume.  (Graphing helps find good guesses for solver)\n",
    "* You may need to include some constraints.\n",
    "* IF YOU ARE STUCK ask a friend, the TA OR the instructor!  Don’t spent so much time feeling lost that you become discouraged.\n",
    "* You should obtain something around 28637 $cm^3/mol$ for the vapor volume and 82.477 $cm^3/mol$ for the liquid volume.  The middle root (not required but for your information) is in between."
   ]
  },
  {
   "cell_type": "code",
   "execution_count": 1,
   "metadata": {},
   "outputs": [
    {
     "name": "stdout",
     "output_type": "stream",
     "text": [
      "f(Vg): [28638.68633461]\n",
      "f(V_iiq): [82.47889063]\n"
     ]
    },
    {
     "data": {
      "text/plain": [
       "[<matplotlib.lines.Line2D at 0x2035df67940>]"
      ]
     },
     "execution_count": 1,
     "metadata": {},
     "output_type": "execute_result"
    },
    {
     "data": {
      "image/png": "[encoded data removed]",
      "text/plain": [
       "<Figure size 432x288 with 1 Axes>"
      ]
     },
     "metadata": {
      "needs_background": "light"
     },
     "output_type": "display_data"
    }
   ],
   "source": [
    "import numpy as np\n",
    "from scipy.optimize import fsolve\n",
    "\n",
    "# constants\n",
    "TC = 77 # degC\n",
    "P = 1.0 # bar\n",
    "a = 2.877e8 # cm^6 bar K^0.5 / mol^2\n",
    "b = 60.211  # cm^3 / mol\n",
    "Rg = 83.144598 # cm^3 bar / K-mol\n",
    "# derived quantities\n",
    "TK = TC+273.15 # K\n",
    "Vg = Rg*TK/P\n",
    "\n",
    "# define function for fsolve\n",
    "def f(V):\n",
    "    return P - Rg*TK/(V-b) + a/(np.sqrt(TK)*V*(V+b))\n",
    "\n",
    "#print(f(Vg*0.984))\n",
    "V_vap = fsolve(f,Vg)\n",
    "print(\"f(Vg):\", V_vap)\n",
    "\n",
    "V_liq = fsolve(f,1.1*b)\n",
    "print(\"f(V_iiq):\", V_liq)\n",
    "\n",
    "n=10000\n",
    "Vx=np.linspace(60,30000,n)\n",
    "fx = np.empty(n)\n",
    "for i in range(n):\n",
    "    fx[i]=f(Vx[i])\n",
    "    \n",
    "%matplotlib inline\n",
    "import matplotlib.pyplot as plt\n",
    "plt.plot(Vx,fx)\n",
    "plt.ylim([-1,1])\n",
    "plt.plot([0,30000],[0,0],'r-')"
   ]
  },
  {
   "cell_type": "code",
   "execution_count": 2,
   "metadata": {},
   "outputs": [
    {
     "data": {
      "text/plain": [
       "(-1.0, 1.0)"
      ]
     },
     "execution_count": 2,
     "metadata": {},
     "output_type": "execute_result"
    },
    {
     "data": {
      "image/png": "[encoded data removed]",
      "text/plain": [
       "<Figure size 432x288 with 1 Axes>"
      ]
     },
     "metadata": {
      "needs_background": "light"
     },
     "output_type": "display_data"
    }
   ],
   "source": [
    "plt.semilogx(Vx,fx)\n",
    "plt.semilogx([0,30000],[0,0],'r-')\n",
    "plt.ylim([-1,1])"
   ]
  },
  {
   "cell_type": "code",
   "execution_count": 3,
   "metadata": {},
   "outputs": [
    {
     "name": "stdout",
     "output_type": "stream",
     "text": [
      "The vapor molar volume is 28638.69 𝑐𝑚3/𝑚𝑜𝑙 \n",
      "The liquid molar volume is 82.48 𝑐𝑚3/𝑚𝑜𝑙 \n"
     ]
    }
   ],
   "source": [
    "V_vap = fsolve(f,Vg)\n",
    "V_liq = fsolve(f,1.1*b)\n",
    "\n",
    "print(f'The vapor molar volume is {V_vap[0]:.2f} 𝑐𝑚3/𝑚𝑜𝑙 ')\n",
    "print(f'The liquid molar volume is {V_liq[0]:.2f} 𝑐𝑚3/𝑚𝑜𝑙 ')"
   ]
  },
  {
   "cell_type": "code",
   "execution_count": 4,
   "metadata": {},
   "outputs": [
    {
     "data": {
      "text/plain": [
       "(-1.0, 1.0)"
      ]
     },
     "execution_count": 4,
     "metadata": {},
     "output_type": "execute_result"
    },
    {
     "data": {
      "image/png": "[encoded data removed]",
      "text/plain": [
       "<Figure size 432x288 with 1 Axes>"
      ]
     },
     "metadata": {
      "needs_background": "light"
     },
     "output_type": "display_data"
    }
   ],
   "source": [
    "plt.semilogx(Vx,fx)\n",
    "plt.semilogx([0,30000],[0,0],'r-')\n",
    "plt.semilogx(V_liq[0], [0], 'o', color = 'orange')\n",
    "plt.semilogx(V_vap[0], [0], 'o', color = 'k')\n",
    "plt.ylim([-1,1])"
   ]
  },
  {
   "cell_type": "markdown",
   "metadata": {},
   "source": [
    "#### The Redlich/Kwong Equation of State is\n",
    "\n",
    "$P = \\frac{R_g \\, T}{V-b} - \\frac{a}{T^{1/2} \\, V \\, \\left(V+b\\right)}$"
   ]
  },
  {
   "cell_type": "code",
   "execution_count": null,
   "metadata": {},
   "outputs": [],
   "source": []
  }
 ],
 "metadata": {
  "kernelspec": {
   "display_name": "Python 3",
   "language": "python",
   "name": "python3"
  },
  "language_info": {
   "codemirror_mode": {
    "name": "ipython",
    "version": 3
   },
   "file_extension": ".py",
   "mimetype": "text/x-python",
   "name": "python",
   "nbconvert_exporter": "python",
   "pygments_lexer": "ipython3",
   "version": "3.8.3"
  }
 },
 "nbformat": 4,
 "nbformat_minor": 2
}

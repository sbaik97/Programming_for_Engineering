{
  "nbformat": 4,
  "nbformat_minor": 0,
  "metadata": {
    "colab": {
      "provenance": []
    },
    "kernelspec": {
      "name": "python3",
      "display_name": "Python 3"
    },
    "language_info": {
      "name": "python"
    }
  },
  "cells": [
    {
      "cell_type": "markdown",
      "source": [
        "**1. Solve the Linear Equation**"
      ],
      "metadata": {
        "id": "ttDdf_mafazl"
      }
    },
    {
      "cell_type": "markdown",
      "source": [
        "**Prob.1 Linear equation 3(2x - 5) - 4(9 - x) = 29**"
      ],
      "metadata": {
        "id": "k5BqON2zgWUj"
      }
    },
    {
      "cell_type": "code",
      "source": [
        "# Add sympy library\n",
        "from sympy import symbols, solve\n"
      ],
      "metadata": {
        "id": "P1xlhuLxf6O8"
      },
      "execution_count": 1,
      "outputs": []
    },
    {
      "cell_type": "code",
      "source": [
        "# Define the variable\n",
        "x = symbols('x')"
      ],
      "metadata": {
        "id": "G_3VQcQxgQcL"
      },
      "execution_count": 2,
      "outputs": []
    },
    {
      "cell_type": "code",
      "source": [
        "# Define the equation, 3(2x - 5) - 4(9 - x) = 29\n",
        "# Rearrange the equation so one side is equal to zero\n",
        "Eq = 3*(2*x - 5) - 4*(9 - x) - 29"
      ],
      "metadata": {
        "id": "qJTjg-zcg4_7"
      },
      "execution_count": 3,
      "outputs": []
    },
    {
      "cell_type": "code",
      "source": [
        "# Solve the equation, finds the value of x that makes the equation equal to zero.\n",
        "solution = solve(Eq, x)"
      ],
      "metadata": {
        "id": "h4MW_ytBgiE9"
      },
      "execution_count": 4,
      "outputs": []
    },
    {
      "cell_type": "code",
      "source": [
        "# Print the solution\n",
        "print(f\"The solution to the equation 3(2x-5)-4(9-x) = 29 is x = {solution[0]}\")"
      ],
      "metadata": {
        "colab": {
          "base_uri": "https://localhost:8080/"
        },
        "id": "gbKL9BP2h2mE",
        "outputId": "90faca74-5c9e-45cb-bcf9-1a088ad547b6"
      },
      "execution_count": 5,
      "outputs": [
        {
          "output_type": "stream",
          "name": "stdout",
          "text": [
            "The solution to the equation 3(2x-5)-4(9-x) = 29 is x = 8\n"
          ]
        }
      ]
    },
    {
      "cell_type": "markdown",
      "source": [
        "**Prob.2 (8g+6)/12-(16g-3)/15=19/20**"
      ],
      "metadata": {
        "id": "pqCLDsaGf4r7"
      }
    },
    {
      "cell_type": "code",
      "source": [
        "# Define the variable\n",
        "g = symbols('g')"
      ],
      "metadata": {
        "id": "AaDy-Wp2IP4V"
      },
      "execution_count": 6,
      "outputs": []
    },
    {
      "cell_type": "code",
      "source": [
        "# Define the equation, (8g+6)/12-(16g-3)/15=19/20\n",
        "equation = (8*g + 6)/12 - (16*g - 3)/15 - 19/20"
      ],
      "metadata": {
        "id": "CO9JfySaIWhI"
      },
      "execution_count": 7,
      "outputs": []
    },
    {
      "cell_type": "code",
      "source": [
        "# Solve the equation for g\n",
        "solution = solve(equation, g)"
      ],
      "metadata": {
        "id": "sY8H-O12kSe1"
      },
      "execution_count": 8,
      "outputs": []
    },
    {
      "cell_type": "code",
      "source": [
        "# Print the solution\n",
        "print(f\"The solution for g from the equation is g = {solution[0]}\")"
      ],
      "metadata": {
        "colab": {
          "base_uri": "https://localhost:8080/"
        },
        "id": "ELW6jNW8kaBq",
        "outputId": "ce98f069-d3a2-4a42-845b-9f29c9be9c34"
      },
      "execution_count": 9,
      "outputs": [
        {
          "output_type": "stream",
          "name": "stdout",
          "text": [
            "The solution for g from the equation is g = -0.625000000000000\n"
          ]
        }
      ]
    },
    {
      "cell_type": "markdown",
      "source": [
        "**Prob.3 Solve absolute equation  |2x-5|=3**"
      ],
      "metadata": {
        "id": "T_eHmxN99a_P"
      }
    },
    {
      "cell_type": "code",
      "source": [
        "# Define the variable, x\n",
        "x = symbols('x')"
      ],
      "metadata": {
        "id": "a-PanccH-TYT"
      },
      "execution_count": 10,
      "outputs": []
    },
    {
      "cell_type": "code",
      "source": [
        "# Divide two cases, positive and negative\n",
        "# Case 1: 2x - 5 = 3\n",
        "equation_case1 = 2*x - 5 - 3  # Set to zero: 2x - 8 = 0\n",
        "solution_case1 = solve(equation_case1, x)\n",
        "# Case 2: 2x - 5 = -3\n",
        "equation_case2 = 2*x - 5 - (-3) # Set to zero: 2x - 5 + 3 = 0 => 2x - 2 = 0\n",
        "solution_case2 = solve(equation_case2, x)"
      ],
      "metadata": {
        "id": "PgZrYGAW-XWX"
      },
      "execution_count": 11,
      "outputs": []
    },
    {
      "cell_type": "code",
      "source": [
        "# Print the solutions\n",
        "print(f\"For |2x - 5| = 3:\")\n",
        "print(f\"Case 1 (2x - 5 = 3): x = {solution_case1[0]}\")\n",
        "print(f\"Case 2 (2x - 5 = -3): x = {solution_case2[0]}\")\n",
        "print(f\"The solutions are x = {solution_case1[0]} and x = {solution_case2[0]}\")"
      ],
      "metadata": {
        "colab": {
          "base_uri": "https://localhost:8080/"
        },
        "id": "3_7O7_yR-qqL",
        "outputId": "371a5571-c4e6-4942-96cf-726a9f2c1283"
      },
      "execution_count": 12,
      "outputs": [
        {
          "output_type": "stream",
          "name": "stdout",
          "text": [
            "For |2x - 5| = 3:\n",
            "Case 1 (2x - 5 = 3): x = 4\n",
            "Case 2 (2x - 5 = -3): x = 1\n",
            "The solutions are x = 4 and x = 1\n"
          ]
        }
      ]
    },
    {
      "cell_type": "code",
      "source": [],
      "metadata": {
        "id": "UErpcbrM-tJ1"
      },
      "execution_count": 12,
      "outputs": []
    }
  ]
}
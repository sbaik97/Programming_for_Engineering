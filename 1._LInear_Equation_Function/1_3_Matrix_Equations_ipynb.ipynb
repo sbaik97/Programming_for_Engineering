{
  "nbformat": 4,
  "nbformat_minor": 0,
  "metadata": {
    "colab": {
      "provenance": []
    },
    "kernelspec": {
      "name": "python3",
      "display_name": "Python 3"
    },
    "language_info": {
      "name": "python"
    }
  },
  "cells": [
    {
      "cell_type": "markdown",
      "source": [
        "**Matrix inverse**"
      ],
      "metadata": {
        "id": "qCs8AZeI_9mv"
      }
    },
    {
      "cell_type": "code",
      "execution_count": 2,
      "metadata": {
        "id": "K5oAaU72_6jr"
      },
      "outputs": [],
      "source": [
        "# Add sympy library\n",
        "from sympy import symbols, solve, Matrix"
      ]
    },
    {
      "cell_type": "code",
      "source": [
        "# Define a matrix\n",
        "M = Matrix([[1, 2], [3, 4]])"
      ],
      "metadata": {
        "id": "jOv_4VSwAsuQ"
      },
      "execution_count": 3,
      "outputs": []
    },
    {
      "cell_type": "code",
      "source": [
        "# Calculate the inverse\n",
        "M_inverse = M.inv()"
      ],
      "metadata": {
        "id": "1oVe7p2WA0fc"
      },
      "execution_count": 4,
      "outputs": []
    },
    {
      "cell_type": "code",
      "source": [
        "# Print the inverse matrix\n",
        "print(M_inverse)"
      ],
      "metadata": {
        "colab": {
          "base_uri": "https://localhost:8080/"
        },
        "id": "Cfq9G5krA34v",
        "outputId": "867db450-3ac8-4ce4-cc64-4b983b227976"
      },
      "execution_count": 5,
      "outputs": [
        {
          "output_type": "stream",
          "name": "stdout",
          "text": [
            "Matrix([[-2, 1], [3/2, -1/2]])\n"
          ]
        }
      ]
    },
    {
      "cell_type": "markdown",
      "source": [
        "**2x2 Matrix Equation Solve, 5x + 4y =115, 7x + 6y =167**"
      ],
      "metadata": {
        "id": "sdfI21dIB7dD"
      }
    },
    {
      "cell_type": "code",
      "source": [
        "# Define the coefficient matrix A\n",
        "A = Matrix([[5, 4], [7, 6]])"
      ],
      "metadata": {
        "id": "kRUccE6hA7C-"
      },
      "execution_count": 6,
      "outputs": []
    },
    {
      "cell_type": "code",
      "source": [
        "# Define the constant matrix B\n",
        "B = Matrix([[115], [167]])"
      ],
      "metadata": {
        "id": "zlnOx6nJC_Bb"
      },
      "execution_count": 11,
      "outputs": []
    },
    {
      "cell_type": "code",
      "source": [
        "# Define the variable matrix X\n",
        "x, y = symbols('x y')\n",
        "X = Matrix([[x], [y]])"
      ],
      "metadata": {
        "id": "1NjTM8CnCTTJ"
      },
      "execution_count": 12,
      "outputs": []
    },
    {
      "cell_type": "code",
      "source": [
        "# Calculate the inverse of matrix A\n",
        "A_inverse = A.inv()"
      ],
      "metadata": {
        "id": "BAJglpgpCx60"
      },
      "execution_count": 13,
      "outputs": []
    },
    {
      "cell_type": "code",
      "source": [
        "# Solve for X using the inverse: X = A_inverse * B\n",
        "solution = A_inverse * B"
      ],
      "metadata": {
        "id": "ha4Edy4TDM9y"
      },
      "execution_count": 14,
      "outputs": []
    },
    {
      "cell_type": "code",
      "source": [
        "# Print the solution\n",
        "print(solution)"
      ],
      "metadata": {
        "colab": {
          "base_uri": "https://localhost:8080/"
        },
        "id": "Rkzbou8uDOda",
        "outputId": "62b25e48-60c5-4dc4-a7cb-55f8110a54e4"
      },
      "execution_count": 15,
      "outputs": [
        {
          "output_type": "stream",
          "name": "stdout",
          "text": [
            "Matrix([[11], [15]])\n"
          ]
        }
      ]
    },
    {
      "cell_type": "markdown",
      "source": [
        "**3x3 Matrix Equation Solve, 5x + 3y - 2z =51, 2x -4y + 3z = -35, 6x + 5y + 8z = 19**"
      ],
      "metadata": {
        "id": "PY-WVrcDDat8"
      }
    },
    {
      "cell_type": "code",
      "source": [
        "# Define the coefficient matrix A\n",
        "A = Matrix([\n",
        "    [5, 3, -2],\n",
        "    [2, -4, 3],\n",
        "    [6, 5, 8]\n",
        "])"
      ],
      "metadata": {
        "id": "xj4bBBRICl3s"
      },
      "execution_count": 22,
      "outputs": []
    },
    {
      "cell_type": "code",
      "source": [
        "# Define the constant matrix B\n",
        "B = Matrix([\n",
        "    [51],\n",
        "    [-35],\n",
        "    [19]\n",
        "])"
      ],
      "metadata": {
        "id": "BVe1WqTuFOZy"
      },
      "execution_count": 23,
      "outputs": []
    },
    {
      "cell_type": "code",
      "source": [
        "# Define the variable matrix X\n",
        "x, y, z = symbols('x y z')\n",
        "X = Matrix([\n",
        "    [x],\n",
        "    [y],\n",
        "    [z]\n",
        "])"
      ],
      "metadata": {
        "id": "veFJqfYoFQWW"
      },
      "execution_count": 24,
      "outputs": []
    },
    {
      "cell_type": "code",
      "source": [
        "# Calculate the inverse of matrix A\n",
        "A_inverse = A.inv()"
      ],
      "metadata": {
        "id": "yTOuVxNEFVM5"
      },
      "execution_count": 25,
      "outputs": []
    },
    {
      "cell_type": "code",
      "source": [
        "# Solve for X using the inverse: X = A_inverse * B\n",
        "solution = A_inverse * B"
      ],
      "metadata": {
        "id": "T7d3xM78FYBy"
      },
      "execution_count": 26,
      "outputs": []
    },
    {
      "cell_type": "code",
      "source": [
        "# Print the solution\n",
        "print(solution)"
      ],
      "metadata": {
        "colab": {
          "base_uri": "https://localhost:8080/"
        },
        "id": "_5nnKJzGFa0V",
        "outputId": "1e49d03e-f20b-411f-91ed-97e3e9175737"
      },
      "execution_count": 27,
      "outputs": [
        {
          "output_type": "stream",
          "name": "stdout",
          "text": [
            "Matrix([[4], [7], [-5]])\n"
          ]
        }
      ]
    },
    {
      "cell_type": "code",
      "source": [],
      "metadata": {
        "id": "m-7qaoyQFccP"
      },
      "execution_count": null,
      "outputs": []
    }
  ]
}
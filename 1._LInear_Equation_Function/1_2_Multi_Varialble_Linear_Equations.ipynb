{
  "nbformat": 4,
  "nbformat_minor": 0,
  "metadata": {
    "colab": {
      "provenance": []
    },
    "kernelspec": {
      "name": "python3",
      "display_name": "Python 3"
    },
    "language_info": {
      "name": "python"
    }
  },
  "cells": [
    {
      "cell_type": "markdown",
      "source": [
        "**Prob.1 Solve two variable equations, y=5x+9, y=3x-5**"
      ],
      "metadata": {
        "id": "n_YuRb3Jz-2x"
      }
    },
    {
      "cell_type": "code",
      "execution_count": 1,
      "metadata": {
        "id": "lQ6w0YOwu8zP"
      },
      "outputs": [],
      "source": [
        "from sympy import symbols, solve"
      ]
    },
    {
      "cell_type": "code",
      "source": [
        "# Define the variables\n",
        "x, y = symbols('x y')"
      ],
      "metadata": {
        "id": "BGnlx0XuvSwr"
      },
      "execution_count": 2,
      "outputs": []
    },
    {
      "cell_type": "code",
      "source": [
        "# Define and rearrange two variable equations, y=5x+9, y=3x-5\n",
        "eq1 = y - (5*x + 9)\n",
        "eq2 = y - (3*x - 5)"
      ],
      "metadata": {
        "id": "zBqrTkH4vVPg"
      },
      "execution_count": 3,
      "outputs": []
    },
    {
      "cell_type": "code",
      "source": [
        "# Solve the system of equations\n",
        "solution = solve((eq1, eq2), (x, y))"
      ],
      "metadata": {
        "id": "ASHaGuUrvW7F"
      },
      "execution_count": 4,
      "outputs": []
    },
    {
      "cell_type": "code",
      "source": [
        "# Print the solution\n",
        "print(solution)"
      ],
      "metadata": {
        "colab": {
          "base_uri": "https://localhost:8080/"
        },
        "id": "cEW0h4rmvZcL",
        "outputId": "4987601f-6f54-474a-dbc1-51ba47f8a4d9"
      },
      "execution_count": 5,
      "outputs": [
        {
          "output_type": "stream",
          "name": "stdout",
          "text": [
            "{x: -7, y: -26}\n"
          ]
        }
      ]
    },
    {
      "cell_type": "markdown",
      "source": [
        "**Prob.2 Solve three variable equations, 5x+3y-2z=51, 2x-4y+3z=-35, 6x+5y+8z=19**"
      ],
      "metadata": {
        "id": "T6JvnKXQ0Xzm"
      }
    },
    {
      "cell_type": "code",
      "source": [
        "# Define the variables\n",
        "x, y, z = symbols('x y z')"
      ],
      "metadata": {
        "id": "a0IQO8AwvbV9"
      },
      "execution_count": 6,
      "outputs": []
    },
    {
      "cell_type": "code",
      "source": [
        "# Define and rearrange two variable equations, 5x+3y-2z=51, 2x-4y+3z=-35, 6x+5y+8z=19\n",
        "eq1 = 5*x + 3*y - 2*z - 51\n",
        "eq2 = 2*x - 4*y + 3*z + 35\n",
        "eq3 = 6*x + 5*y + 8*z - 19"
      ],
      "metadata": {
        "id": "H-YBGJoe1QE3"
      },
      "execution_count": 7,
      "outputs": []
    },
    {
      "cell_type": "code",
      "source": [
        "# Solve the system of equations\n",
        "solution = solve((eq1, eq2, eq3), (x, y, z))"
      ],
      "metadata": {
        "id": "Wl_oYO5p1f5v"
      },
      "execution_count": 8,
      "outputs": []
    },
    {
      "cell_type": "code",
      "source": [
        "# Print the solution\n",
        "print(solution)"
      ],
      "metadata": {
        "colab": {
          "base_uri": "https://localhost:8080/"
        },
        "id": "Gjq4ZO661ixe",
        "outputId": "9e3d1a23-2835-4bd4-a410-4215070ec4f0"
      },
      "execution_count": 9,
      "outputs": [
        {
          "output_type": "stream",
          "name": "stdout",
          "text": [
            "{x: 4, y: 7, z: -5}\n"
          ]
        }
      ]
    },
    {
      "cell_type": "markdown",
      "source": [],
      "metadata": {
        "id": "Hw33KSAJ1Pzu"
      }
    },
    {
      "cell_type": "markdown",
      "source": [],
      "metadata": {
        "id": "okOroFKL0w21"
      }
    }
  ]
}
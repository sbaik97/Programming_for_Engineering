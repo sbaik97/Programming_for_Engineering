{
 "cells": [
  {
   "cell_type": "markdown",
   "metadata": {},
   "source": [
    "## # 4-3 Curve_fit with random number\n",
    "\n",
    "Random numbers are important to simulate a physical process where there is a random fluctuation of the values. Some of the common random number generators in Numpy are shown in the table below.\n",
    "\n",
    "| ***Function*** | ***Description*** |\n",
    "| --- | --- |\n",
    "| rand | Uniformly distributed values |\n",
    "| randn | Normally distributed values |\n",
    "| randint | Uniformly distributed integers in a given range |\n",
    "\n",
    "A few examples are listed below:\n",
    "\n",
    "*Generate two random numbers between 0 and 1*\n",
    "\n",
    "```python\n",
    "import numpy as np\n",
    "print(np.random.rand(2))\n",
    "Result: [0.90411793 0.01642428]\n",
    "```\n",
    "\n",
    "*Generate a random number between -1 and 1*\n",
    "\n",
    "```python\n",
    "print(np.random.rand()*2.0-1.0)\n",
    "Result: -0.34398648976057977\n",
    "```\n",
    "\n",
    "*Generate a random integer between 1 and 10*\n",
    "\n",
    "```python\n",
    "print(np.random.randint(0,10)+1)\n",
    "Result: 4\n",
    "```\n",
    "\n"
   ]
  },
  {
   "cell_type": "code",
   "execution_count": 1,
   "metadata": {},
   "outputs": [
    {
     "name": "stdout",
     "output_type": "stream",
     "text": [
      "[-5.5 -5.  -4.5 -4.  -3.5 -3.  -2.5 -2.  -1.5 -1.  -0.5  0.   0.5  1.\n",
      "  1.5  2.   2.5  3.   3.5  4.   4.5  5.   5.5]\n"
     ]
    },
    {
     "data": {
      "image/png": "[encoded data removed]",
      "text/plain": [
       "<Figure size 432x288 with 1 Axes>"
      ]
     },
     "metadata": {
      "needs_background": "light"
     },
     "output_type": "display_data"
    }
   ],
   "source": [
    "# Generate 50 normally distributed values and create a histogram bar chart to view the distribution\n",
    "# Increase the number of normally distributed points to n=1000 and re-generate the plot.\n",
    "\n",
    "import numpy as np\n",
    "%matplotlib inline\n",
    "import matplotlib.pyplot as plt\n",
    "from sklearn.metrics import r2_score\n",
    "\n",
    "#Generate 50 Normally distributed random number\n",
    "n = 50\n",
    "x = np.random.randn(n)\n",
    "\n",
    "# count number in each bin\n",
    "bins=np.linspace(-5.5,5.5,23)\n",
    "print(bins)\n",
    "hist, _ = np.histogram(x, bins)\n",
    "\n",
    "# plot histogram data\n",
    "plt.bar(bins[0:-1]+0.25,hist,label=str(n)+' samples')\n",
    "plt.plot(bins[0:-1]+0.25,hist,'r-',lw=5)\n",
    "plt.xlabel('bin')\n",
    "plt.ylabel('count')\n",
    "plt.title('Normal Distribution')\n",
    "plt.legend(loc='best')\n",
    "plt.show()"
   ]
  },
  {
   "cell_type": "markdown",
   "metadata": {},
   "source": [
    "***Action:*** Create 1000 random numbers with a Poisson distribution using ```lambda = 1```. Use the ```np.random.poisson(lam,n)``` function."
   ]
  },
  {
   "cell_type": "code",
   "execution_count": 2,
   "metadata": {},
   "outputs": [
    {
     "data": {
      "text/plain": [
       "array([1, 0, 0, 3, 0, 1, 0, 2, 1, 2, 2, 2, 2, 1, 1, 0, 1, 1, 1, 1])"
      ]
     },
     "execution_count": 2,
     "metadata": {},
     "output_type": "execute_result"
    }
   ],
   "source": [
    "x = np.random.poisson (1, 100000)\n",
    "x[0:20]"
   ]
  },
  {
   "cell_type": "markdown",
   "metadata": {},
   "source": [
    "***Action:*** Use bins (0,1,2,3,4,5) to determine the frequency at which a number appears. Use the ```np.histogram``` function to count the number in each bin.\n",
    "\n",
    "```python\n",
    "bins=[0,1,2,3,4,5,6]\n",
    "hist, _ = np.histogram(x, bins)\n",
    "```"
   ]
  },
  {
   "cell_type": "code",
   "execution_count": 3,
   "metadata": {},
   "outputs": [
    {
     "data": {
      "text/plain": [
       "array([36857, 36743, 18434,  6086,  1532,   338], dtype=int64)"
      ]
     },
     "execution_count": 3,
     "metadata": {},
     "output_type": "execute_result"
    }
   ],
   "source": [
    "bins = [0, 1, 2, 3, 4, 5, 6]\n",
    "hist, _ = np.histogram(x, bins)\n",
    "hist"
   ]
  },
  {
   "cell_type": "markdown",
   "metadata": {},
   "source": [
    "***Action:*** Plot the number in each bin with a column plot (total count versus bin). Use the ```plt.bar``` function in ```maplotlib.pyplot```.  Remove the last bin value so that the size of ```hist``` corresponds to the number of bins plotted as ```plt.bar(bins[0:-1],hist)```, where ```bins[0:-1]=[0,1,2,3,4,5]```."
   ]
  },
  {
   "cell_type": "code",
   "execution_count": 4,
   "metadata": {},
   "outputs": [
    {
     "data": {
      "image/png": "[encoded data removed]",
      "text/plain": [
       "<Figure size 432x288 with 1 Axes>"
      ]
     },
     "metadata": {
      "needs_background": "light"
     },
     "output_type": "display_data"
    }
   ],
   "source": [
    "# plot histogram data\n",
    "plt.bar(bins[0:-1],hist,label=str(10000)+' samples')\n",
    "plt.xlabel('bin')\n",
    "plt.ylabel('count')\n",
    "plt.title('Poisson Distribution')\n",
    "plt.legend(loc='best')\n",
    "plt.show()"
   ]
  },
  {
   "cell_type": "code",
   "execution_count": null,
   "metadata": {},
   "outputs": [],
   "source": []
  }
 ],
 "metadata": {
  "kernelspec": {
   "display_name": "Python 3",
   "language": "python",
   "name": "python3"
  },
  "language_info": {
   "codemirror_mode": {
    "name": "ipython",
    "version": 3
   },
   "file_extension": ".py",
   "mimetype": "text/x-python",
   "name": "python",
   "nbconvert_exporter": "python",
   "pygments_lexer": "ipython3",
   "version": "3.8.3"
  }
 },
 "nbformat": 4,
 "nbformat_minor": 2
}

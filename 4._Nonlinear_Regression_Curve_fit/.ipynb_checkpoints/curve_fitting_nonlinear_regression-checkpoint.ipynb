{
 "cells": [
  {
   "cell_type": "markdown",
   "metadata": {},
   "source": [
    "## Problem # 4-1 Curve fit\n",
    "\n",
    "Heart rate data (Beats per minute or BPM) as a function of time (sec) for a twenty-minute period of constant exertion is found at:\n",
    "\n",
    "* <a href='https://apmonitor.com/che263/uploads/Main/heart_rate.txt' target='_blank'>Heart Rate Data, URL: https://apmonitor.com/che263/uploads/Main/heart_rate.txt</a>\n",
    "\n",
    "The time of each measurement, in seconds, in listed in the first column, and the measured heart rate, in beats per minute, in the second column. "
   ]
  },
  {
   "cell_type": "code",
   "execution_count": 1,
   "metadata": {},
   "outputs": [],
   "source": [
    "import pandas as pd\n",
    "import numpy as np\n",
    "import matplotlib.pyplot as plt\n",
    "%matplotlib inline\n",
    "from scipy.optimize import curve_fit"
   ]
  },
  {
   "cell_type": "code",
   "execution_count": 2,
   "metadata": {},
   "outputs": [
    {
     "name": "stdout",
     "output_type": "stream",
     "text": [
      "     Time (sec)  Heart Rate (BPM)\n",
      "236      1180.0               153\n",
      "237      1185.0               154\n",
      "238      1190.0               154\n",
      "239      1195.0               154\n",
      "240      1200.0               154\n"
     ]
    }
   ],
   "source": [
    "# Import the data, print the first 5 rows, and print summary statistics.\n",
    "\n",
    "x = pd.read_csv('https://apmonitor.com/che263/uploads/Main/heart_rate.txt')\n",
    "print(x.tail())"
   ]
  },
  {
   "cell_type": "code",
   "execution_count": 3,
   "metadata": {},
   "outputs": [
    {
     "data": {
      "text/html": [
       "<div>\n",
       "<style scoped>\n",
       "    .dataframe tbody tr th:only-of-type {\n",
       "        vertical-align: middle;\n",
       "    }\n",
       "\n",
       "    .dataframe tbody tr th {\n",
       "        vertical-align: top;\n",
       "    }\n",
       "\n",
       "    .dataframe thead th {\n",
       "        text-align: right;\n",
       "    }\n",
       "</style>\n",
       "<table border=\"1\" class=\"dataframe\">\n",
       "  <thead>\n",
       "    <tr style=\"text-align: right;\">\n",
       "      <th></th>\n",
       "      <th>Time (sec)</th>\n",
       "      <th>Heart Rate (BPM)</th>\n",
       "    </tr>\n",
       "  </thead>\n",
       "  <tbody>\n",
       "    <tr>\n",
       "      <th>count</th>\n",
       "      <td>241.000000</td>\n",
       "      <td>241.000000</td>\n",
       "    </tr>\n",
       "    <tr>\n",
       "      <th>mean</th>\n",
       "      <td>600.000000</td>\n",
       "      <td>142.983402</td>\n",
       "    </tr>\n",
       "    <tr>\n",
       "      <th>std</th>\n",
       "      <td>348.574478</td>\n",
       "      <td>11.387115</td>\n",
       "    </tr>\n",
       "    <tr>\n",
       "      <th>min</th>\n",
       "      <td>0.000000</td>\n",
       "      <td>103.000000</td>\n",
       "    </tr>\n",
       "    <tr>\n",
       "      <th>25%</th>\n",
       "      <td>300.000000</td>\n",
       "      <td>138.000000</td>\n",
       "    </tr>\n",
       "    <tr>\n",
       "      <th>50%</th>\n",
       "      <td>600.000000</td>\n",
       "      <td>147.000000</td>\n",
       "    </tr>\n",
       "    <tr>\n",
       "      <th>75%</th>\n",
       "      <td>900.000000</td>\n",
       "      <td>151.000000</td>\n",
       "    </tr>\n",
       "    <tr>\n",
       "      <th>max</th>\n",
       "      <td>1200.000000</td>\n",
       "      <td>154.000000</td>\n",
       "    </tr>\n",
       "  </tbody>\n",
       "</table>\n",
       "</div>"
      ],
      "text/plain": [
       "        Time (sec)  Heart Rate (BPM)\n",
       "count   241.000000        241.000000\n",
       "mean    600.000000        142.983402\n",
       "std     348.574478         11.387115\n",
       "min       0.000000        103.000000\n",
       "25%     300.000000        138.000000\n",
       "50%     600.000000        147.000000\n",
       "75%     900.000000        151.000000\n",
       "max    1200.000000        154.000000"
      ]
     },
     "execution_count": 3,
     "metadata": {},
     "output_type": "execute_result"
    }
   ],
   "source": [
    "x.describe()"
   ]
  },
  {
   "cell_type": "code",
   "execution_count": 4,
   "metadata": {},
   "outputs": [],
   "source": [
    "# Create a function that returns the predicted BPM given the time (t) and the four constants.\n",
    "def bpm(t, c0, c1, c2, c3):\n",
    "    return c0+c1*t-c2*np.exp(-c3*t)"
   ]
  },
  {
   "cell_type": "code",
   "execution_count": 5,
   "metadata": {},
   "outputs": [
    {
     "data": {
      "text/plain": [
       "[<matplotlib.lines.Line2D at 0x1e6a8cefcd0>]"
      ]
     },
     "execution_count": 5,
     "metadata": {},
     "output_type": "execute_result"
    },
    {
     "data": {
      "image/png": "[encoded data removed]",
      "text/plain": [
       "<Figure size 432x288 with 1 Axes>"
      ]
     },
     "metadata": {
      "needs_background": "light"
     },
     "output_type": "display_data"
    }
   ],
   "source": [
    "# To obtain good guess values, plot the data and the function before trying the solver. \n",
    "# Providing good guess values is the key to getting a solution\n",
    "g = [140, 0.01, 80, 0.01]\n",
    "\n",
    "n = len(x['Time (sec)'])\n",
    "y = np.empty(n)\n",
    "for i in range(n):\n",
    "    y[i] = bpm(x['Time (sec)'][i], g[0], g[1], g[2], g[3])\n",
    "\n",
    "plt.plot(x['Time (sec)'], x['Heart Rate (BPM)'])\n",
    "plt.plot(x['Time (sec)'], y, 'r.')"
   ]
  },
  {
   "cell_type": "code",
   "execution_count": 6,
   "metadata": {},
   "outputs": [
    {
     "name": "stdout",
     "output_type": "stream",
     "text": [
      "[1.42373197e+02 9.24806084e-03 4.00292044e+01 6.84029116e-03]\n"
     ]
    },
    {
     "data": {
      "text/plain": [
       "[<matplotlib.lines.Line2D at 0x1e6a91af490>]"
      ]
     },
     "execution_count": 6,
     "metadata": {},
     "output_type": "execute_result"
    },
    {
     "data": {
      "image/png": "[encoded data removed]",
      "text/plain": [
       "<Figure size 432x288 with 1 Axes>"
      ]
     },
     "metadata": {
      "needs_background": "light"
     },
     "output_type": "display_data"
    }
   ],
   "source": [
    "# Fit the data to the following correlation by adjusting the values of $c_0$, $c_1$, $c_2$, $c_3$ \n",
    "# using ```scipy.optimize.curve_fit```. \n",
    "# Determine the values of c0, c1, c2, and c3 that minimize the error between the model prediction and measured values.\n",
    "\n",
    "t = x['Time (sec)'].values\n",
    "hr = x['Heart Rate (BPM)'].values\n",
    "c, cov =curve_fit(bpm, t, hr, g)\n",
    "print (c)\n",
    "\n",
    "# Replot with fitted value\n",
    "\n",
    "for i in range(n):\n",
    "    y[i] = bpm(x['Time (sec)'][i], c[0], c[1], c[2], c[3])\n",
    "\n",
    "plt.plot(x['Time (sec)'], x['Heart Rate (BPM)'])\n",
    "plt.plot(x['Time (sec)'], y, 'r.')\n",
    "\n"
   ]
  },
  {
   "cell_type": "markdown",
   "metadata": {},
   "source": [
    "### Calculate the $R^2$ value for the fit.  Values closer to 1 are a better fit than those closer to 0."
   ]
  },
  {
   "cell_type": "code",
   "execution_count": 7,
   "metadata": {},
   "outputs": [
    {
     "name": "stdout",
     "output_type": "stream",
     "text": [
      "R^2:  0.9930375847646636\n"
     ]
    }
   ],
   "source": [
    "from sklearn.metrics import r2_score\n",
    "print('R^2: ', r2_score(hr,y))"
   ]
  },
  {
   "cell_type": "code",
   "execution_count": null,
   "metadata": {},
   "outputs": [],
   "source": []
  }
 ],
 "metadata": {
  "kernelspec": {
   "display_name": "Python 3",
   "language": "python",
   "name": "python3"
  },
  "language_info": {
   "codemirror_mode": {
    "name": "ipython",
    "version": 3
   },
   "file_extension": ".py",
   "mimetype": "text/x-python",
   "name": "python",
   "nbconvert_exporter": "python",
   "pygments_lexer": "ipython3",
   "version": "3.8.3"
  }
 },
 "nbformat": 4,
 "nbformat_minor": 2
}

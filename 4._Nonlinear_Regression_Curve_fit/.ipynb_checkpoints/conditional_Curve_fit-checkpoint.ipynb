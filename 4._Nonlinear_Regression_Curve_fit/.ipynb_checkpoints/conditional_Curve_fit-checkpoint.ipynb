{
 "cells": [
  {
   "cell_type": "markdown",
   "metadata": {},
   "source": [
    "##  # 4-2 Conditional Curve fit\n",
    "\n",
    "This next exercise is similar to the one above but it also requires a conditional statement to determine if the time is past the dead-time limit. The following link contains data for the response of a first order system with time delay.  \n",
    "\n",
    "* <a href='https://apmonitor.com/che263/uploads/Main/dynamics.txt' target='_blank'>Dynamic Data, URL: https://apmonitor.com/che263/uploads/Main/dynamics.txt</a>\n",
    "\n",
    "Such step data is used to create controllers for automation. You will learn about this in <a href='https://apmonitor.com/pdc' target='_blank'>ChE 436, Process Dynamics and Control</a>.\n",
    "\n"
   ]
  },
  {
   "cell_type": "code",
   "execution_count": 1,
   "metadata": {},
   "outputs": [],
   "source": [
    "import pandas as pd\n",
    "import numpy as np\n",
    "import matplotlib.pyplot as plt\n",
    "%matplotlib inline\n",
    "from scipy.optimize import curve_fit\n",
    "from sklearn.metrics import r2_score"
   ]
  },
  {
   "cell_type": "code",
   "execution_count": 2,
   "metadata": {},
   "outputs": [
    {
     "name": "stdout",
     "output_type": "stream",
     "text": [
      "    time (min)     y\n",
      "8          0.8  4.80\n",
      "9          0.9  4.90\n",
      "10         1.0  4.95\n",
      "11         1.1  4.97\n",
      "12         1.2  4.99\n"
     ]
    }
   ],
   "source": [
    "# Import the data, view the first 5 rows, generate a plot, and calculate summary statistics.\n",
    "x = pd.read_csv('https://apmonitor.com/che263/uploads/Main/dynamics.txt')\n",
    "print(x.tail())"
   ]
  },
  {
   "cell_type": "code",
   "execution_count": 3,
   "metadata": {},
   "outputs": [],
   "source": [
    "# Obtains t and t values\n",
    "t = x['time (min)'].values\n",
    "y = x['y'].values"
   ]
  },
  {
   "cell_type": "markdown",
   "metadata": {},
   "source": [
    "Conditional statements are used to direct the flow of the program to different commands based on whether a statement is ```True``` or ```False```. A boolean (```True``` or ```False```) is used to direct the flow with an ```if```, ```elif``` (else if), or ```else``` parts to the statement.\n",
    "\n",
    "There is a switching function that equals *zero* when time is less than the dead-time $(\\theta)$ and equals *one* when time is greater than or equal to the dead-time.\n",
    "\n",
    "$S(t-\\theta) = \\left[ {\\begin{array}{c} 0 \\, \\mathrm{when} \\, t \\lt \\theta \\\\ 1 \\, \\mathrm{when} \\, t\\ge \\theta \\end{array} } \\right]$"
   ]
  },
  {
   "cell_type": "code",
   "execution_count": 4,
   "metadata": {},
   "outputs": [
    {
     "name": "stdout",
     "output_type": "stream",
     "text": [
      "[0. 0. 0. 0. 1. 1. 1. 1. 1. 1. 1. 1. 1.]\n"
     ]
    }
   ],
   "source": [
    "# With an initial guess of $\\theta$ = 0.4, calculate the value of $S(t-\\theta)$ for all time points in the data.\n",
    "theta = 0.4\n",
    "n = len (t)\n",
    "S = np.empty(n)\n",
    "\n",
    "for i in range(n):\n",
    "    if t[i] < theta:\n",
    "        S [i] = 0\n",
    "    else:\n",
    "        S [i] = 1\n",
    "    \n",
    "print(S)"
   ]
  },
  {
   "cell_type": "markdown",
   "metadata": {},
   "source": [
    "***Define a function ```yfcn``` that has input arguments of ```t``` (time), ```tau``` ($\\tau$), and ```theta``` ($\\theta).***\n",
    "\n",
    "```python\n",
    "def yfcn(t,tau,theta):\n",
    "```\n",
    "\n",
    "The function should return the predicted ```y(t)``` values as a Numpy array."
   ]
  },
  {
   "cell_type": "code",
   "execution_count": 5,
   "metadata": {},
   "outputs": [
    {
     "name": "stdout",
     "output_type": "stream",
     "text": [
      "[-0.         -0.          0.          0.1639195   0.32246507  0.47581291\n",
      "  0.6241334   0.76759138  0.90634623  1.04055217  1.17035831  1.2959089\n",
      "  1.41734345]\n"
     ]
    }
   ],
   "source": [
    "# Define a function yp\n",
    "\n",
    "def yp(t, tau, theta):\n",
    "    z = 5.0 * (1-np.exp(-(t-theta)/tau))\n",
    "    for i in range(n):\n",
    "        if t[i] < theta:\n",
    "            S [i] = 0\n",
    "        else:\n",
    "            S [i] = 1\n",
    "    return z*S\n",
    "\n",
    "print(yp(t, 3, 0.2))"
   ]
  },
  {
   "cell_type": "markdown",
   "metadata": {},
   "source": [
    "***Find the constants, $\\tau$ and $\\theta$, to best fit the process data, y(t).***\n",
    "\n",
    "$y(t)=5 \\left( 1-\\exp{\\left(-\\frac{t-\\theta}{\\tau}\\right)} \\right) S(t-\\theta)$\n",
    "\n",
    "Use ```scipy.optimize.curve_fit``` to find a solution:\n"
   ]
  },
  {
   "cell_type": "code",
   "execution_count": 6,
   "metadata": {},
   "outputs": [
    {
     "data": {
      "text/plain": [
       "array([0.19219009, 0.10660599])"
      ]
     },
     "execution_count": 6,
     "metadata": {},
     "output_type": "execute_result"
    }
   ],
   "source": [
    "# fit the data to find the constants,  𝜏  and  𝜃 , to best fit the process data, y(t).\n",
    "c,cov = curve_fit(yp, t, y)\n",
    "c"
   ]
  },
  {
   "cell_type": "code",
   "execution_count": 7,
   "metadata": {},
   "outputs": [
    {
     "data": {
      "text/plain": [
       "array([-0.        , -0.        ,  1.924425  ,  3.17208921,  3.91361522,\n",
       "        4.35432741,  4.61625651,  4.77192919,  4.86445036,  4.91943859,\n",
       "        4.95211983,  4.97154331,  4.98308729])"
      ]
     },
     "execution_count": 7,
     "metadata": {},
     "output_type": "execute_result"
    }
   ],
   "source": [
    "#optimization value\n",
    "yopt = yp(t, c[0], c[1])\n",
    "yopt"
   ]
  },
  {
   "cell_type": "code",
   "execution_count": null,
   "metadata": {},
   "outputs": [],
   "source": [
    "# Generate a plot that shows the data and the function with the optimized parameters.\n",
    "plt.plot(t, y, 'r.', label = 'Measured')\n",
    "plt.plot(t, yopt, 'b-', label = 'Predicted')\n",
    "plt.legend()\n",
    "plt.xlabel('Time')\n",
    "plt.ylabel('Valve')"
   ]
  },
  {
   "cell_type": "code",
   "execution_count": 8,
   "metadata": {},
   "outputs": [
    {
     "name": "stdout",
     "output_type": "stream",
     "text": [
      "R^2:  0.9993662868109856\n"
     ]
    }
   ],
   "source": [
    "# Calculate the  𝑅2  value for the fit.\n",
    "print('R^2: ', r2_score(yopt, y))"
   ]
  },
  {
   "cell_type": "code",
   "execution_count": 9,
   "metadata": {},
   "outputs": [
    {
     "data": {
      "text/plain": [
       "Text(0, 0.5, 'Valve')"
      ]
     },
     "execution_count": 9,
     "metadata": {},
     "output_type": "execute_result"
    },
    {
     "data": {
      "image/png": "[encoded data removed]",
      "text/plain": [
       "<Figure size 432x288 with 1 Axes>"
      ]
     },
     "metadata": {
      "needs_background": "light"
     },
     "output_type": "display_data"
    }
   ],
   "source": []
  },
  {
   "cell_type": "code",
   "execution_count": null,
   "metadata": {},
   "outputs": [],
   "source": []
  }
 ],
 "metadata": {
  "kernelspec": {
   "display_name": "Python 3",
   "language": "python",
   "name": "python3"
  },
  "language_info": {
   "codemirror_mode": {
    "name": "ipython",
    "version": 3
   },
   "file_extension": ".py",
   "mimetype": "text/x-python",
   "name": "python",
   "nbconvert_exporter": "python",
   "pygments_lexer": "ipython3",
   "version": "3.8.3"
  }
 },
 "nbformat": 4,
 "nbformat_minor": 2
}

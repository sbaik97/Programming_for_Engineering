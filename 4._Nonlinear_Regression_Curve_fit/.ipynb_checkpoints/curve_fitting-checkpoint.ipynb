{
 "cells": [
  {
   "cell_type": "markdown",
   "metadata": {},
   "source": [
    "## Problem # 4-1 Curve fit\n",
    "\n",
    "Heart rate data (Beats per minute or BPM) as a function of time (sec) for a twenty-minute period of constant exertion is found at:\n",
    "\n",
    "* <a href='https://apmonitor.com/che263/uploads/Main/heart_rate.txt' target='_blank'>Heart Rate Data, URL: https://apmonitor.com/che263/uploads/Main/heart_rate.txt</a>\n",
    "\n",
    "The time of each measurement, in seconds, in listed in the first column, and the measured heart rate, in beats per minute, in the second column. "
   ]
  },
  {
   "cell_type": "code",
   "execution_count": 1,
   "metadata": {},
   "outputs": [],
   "source": [
    "import pandas as pd\n",
    "import numpy as np\n",
    "import matplotlib.pyplot as plt\n",
    "%matplotlib inline\n",
    "from scipy.optimize import curve_fit"
   ]
  },
  {
   "cell_type": "code",
   "execution_count": 2,
   "metadata": {},
   "outputs": [
    {
     "name": "stdout",
     "output_type": "stream",
     "text": [
      "     Time (sec)  Heart Rate (BPM)\n",
      "236      1180.0               153\n",
      "237      1185.0               154\n",
      "238      1190.0               154\n",
      "239      1195.0               154\n",
      "240      1200.0               154\n"
     ]
    }
   ],
   "source": [
    "# Import the data, print the first 5 rows, and print summary statistics.\n",
    "\n",
    "x = pd.read_csv('https://apmonitor.com/che263/uploads/Main/heart_rate.txt')\n",
    "print(x.tail())"
   ]
  },
  {
   "cell_type": "code",
   "execution_count": 3,
   "metadata": {},
   "outputs": [
    {
     "data": {
      "text/html": [
       "<div>\n",
       "<style scoped>\n",
       "    .dataframe tbody tr th:only-of-type {\n",
       "        vertical-align: middle;\n",
       "    }\n",
       "\n",
       "    .dataframe tbody tr th {\n",
       "        vertical-align: top;\n",
       "    }\n",
       "\n",
       "    .dataframe thead th {\n",
       "        text-align: right;\n",
       "    }\n",
       "</style>\n",
       "<table border=\"1\" class=\"dataframe\">\n",
       "  <thead>\n",
       "    <tr style=\"text-align: right;\">\n",
       "      <th></th>\n",
       "      <th>Time (sec)</th>\n",
       "      <th>Heart Rate (BPM)</th>\n",
       "    </tr>\n",
       "  </thead>\n",
       "  <tbody>\n",
       "    <tr>\n",
       "      <th>count</th>\n",
       "      <td>241.000000</td>\n",
       "      <td>241.000000</td>\n",
       "    </tr>\n",
       "    <tr>\n",
       "      <th>mean</th>\n",
       "      <td>600.000000</td>\n",
       "      <td>142.983402</td>\n",
       "    </tr>\n",
       "    <tr>\n",
       "      <th>std</th>\n",
       "      <td>348.574478</td>\n",
       "      <td>11.387115</td>\n",
       "    </tr>\n",
       "    <tr>\n",
       "      <th>min</th>\n",
       "      <td>0.000000</td>\n",
       "      <td>103.000000</td>\n",
       "    </tr>\n",
       "    <tr>\n",
       "      <th>25%</th>\n",
       "      <td>300.000000</td>\n",
       "      <td>138.000000</td>\n",
       "    </tr>\n",
       "    <tr>\n",
       "      <th>50%</th>\n",
       "      <td>600.000000</td>\n",
       "      <td>147.000000</td>\n",
       "    </tr>\n",
       "    <tr>\n",
       "      <th>75%</th>\n",
       "      <td>900.000000</td>\n",
       "      <td>151.000000</td>\n",
       "    </tr>\n",
       "    <tr>\n",
       "      <th>max</th>\n",
       "      <td>1200.000000</td>\n",
       "      <td>154.000000</td>\n",
       "    </tr>\n",
       "  </tbody>\n",
       "</table>\n",
       "</div>"
      ],
      "text/plain": [
       "        Time (sec)  Heart Rate (BPM)\n",
       "count   241.000000        241.000000\n",
       "mean    600.000000        142.983402\n",
       "std     348.574478         11.387115\n",
       "min       0.000000        103.000000\n",
       "25%     300.000000        138.000000\n",
       "50%     600.000000        147.000000\n",
       "75%     900.000000        151.000000\n",
       "max    1200.000000        154.000000"
      ]
     },
     "execution_count": 3,
     "metadata": {},
     "output_type": "execute_result"
    }
   ],
   "source": [
    "x.describe()"
   ]
  },
  {
   "cell_type": "code",
   "execution_count": 4,
   "metadata": {},
   "outputs": [],
   "source": [
    "# Create a function that returns the predicted BPM given the time (t) and the four constants.\n",
    "def bpm(t, c0, c1, c2, c3):\n",
    "    return c0+c1*t-c2*np.exp(-c3*t)"
   ]
  },
  {
   "cell_type": "code",
   "execution_count": 5,
   "metadata": {},
   "outputs": [
    {
     "data": {
      "text/plain": [
       "[<matplotlib.lines.Line2D at 0x1e6a8cefcd0>]"
      ]
     },
     "execution_count": 5,
     "metadata": {},
     "output_type": "execute_result"
    },
    {
     "data": {
      "image/png": "[encoded data removed]",
      "text/plain": [
       "<Figure size 432x288 with 1 Axes>"
      ]
     },
     "metadata": {
      "needs_background": "light"
     },
     "output_type": "display_data"
    }
   ],
   "source": [
    "# To obtain good guess values, plot the data and the function before trying the solver. \n",
    "# Providing good guess values is the key to getting a solution\n",
    "g = [140, 0.01, 80, 0.01]\n",
    "\n",
    "n = len(x['Time (sec)'])\n",
    "y = np.empty(n)\n",
    "for i in range(n):\n",
    "    y[i] = bpm(x['Time (sec)'][i], g[0], g[1], g[2], g[3])\n",
    "\n",
    "plt.plot(x['Time (sec)'], x['Heart Rate (BPM)'])\n",
    "plt.plot(x['Time (sec)'], y, 'r.')"
   ]
  },
  {
   "cell_type": "code",
   "execution_count": 6,
   "metadata": {},
   "outputs": [
    {
     "name": "stdout",
     "output_type": "stream",
     "text": [
      "[1.42373197e+02 9.24806084e-03 4.00292044e+01 6.84029116e-03]\n"
     ]
    },
    {
     "data": {
      "text/plain": [
       "[<matplotlib.lines.Line2D at 0x1e6a91af490>]"
      ]
     },
     "execution_count": 6,
     "metadata": {},
     "output_type": "execute_result"
    },
    {
     "data": {
      "image/png": "[encoded data removed]",
      "text/plain": [
       "<Figure size 432x288 with 1 Axes>"
      ]
     },
     "metadata": {
      "needs_background": "light"
     },
     "output_type": "display_data"
    }
   ],
   "source": [
    "# Fit the data to the following correlation by adjusting the values of $c_0$, $c_1$, $c_2$, $c_3$ \n",
    "# using ```scipy.optimize.curve_fit```. \n",
    "# Determine the values of c0, c1, c2, and c3 that minimize the error between the model prediction and measured values.\n",
    "\n",
    "t = x['Time (sec)'].values\n",
    "hr = x['Heart Rate (BPM)'].values\n",
    "c, cov =curve_fit(bpm, t, hr, g)\n",
    "print (c)\n",
    "\n",
    "# Replot with fitted value\n",
    "\n",
    "for i in range(n):\n",
    "    y[i] = bpm(x['Time (sec)'][i], c[0], c[1], c[2], c[3])\n",
    "\n",
    "plt.plot(x['Time (sec)'], x['Heart Rate (BPM)'])\n",
    "plt.plot(x['Time (sec)'], y, 'r.')\n",
    "\n"
   ]
  },
  {
   "cell_type": "markdown",
   "metadata": {},
   "source": [
    "### Calculate the $R^2$ value for the fit.  Values closer to 1 are a better fit than those closer to 0."
   ]
  },
  {
   "cell_type": "code",
   "execution_count": 7,
   "metadata": {},
   "outputs": [
    {
     "name": "stdout",
     "output_type": "stream",
     "text": [
      "R^2:  0.9930375847646636\n"
     ]
    }
   ],
   "source": [
    "from sklearn.metrics import r2_score\n",
    "print('R^2: ', r2_score(hr,y))"
   ]
  },
  {
   "cell_type": "markdown",
   "metadata": {},
   "source": [
    "## Problem # 4-2 Conditional Curve fit\n",
    "\n",
    "This next exercise is similar to the one above but it also requires a conditional statement to determine if the time is past the dead-time limit. The following link contains data for the response of a first order system with time delay.  \n",
    "\n",
    "* <a href='https://apmonitor.com/che263/uploads/Main/dynamics.txt' target='_blank'>Dynamic Data, URL: https://apmonitor.com/che263/uploads/Main/dynamics.txt</a>\n",
    "\n",
    "Such step data is used to create controllers for automation. You will learn about this in <a href='https://apmonitor.com/pdc' target='_blank'>ChE 436, Process Dynamics and Control</a>.\n",
    "\n"
   ]
  },
  {
   "cell_type": "code",
   "execution_count": 8,
   "metadata": {},
   "outputs": [
    {
     "name": "stdout",
     "output_type": "stream",
     "text": [
      "    time (min)     y\n",
      "8          0.8  4.80\n",
      "9          0.9  4.90\n",
      "10         1.0  4.95\n",
      "11         1.1  4.97\n",
      "12         1.2  4.99\n"
     ]
    }
   ],
   "source": [
    "# Import the data, view the first 5 rows, generate a plot, and calculate summary statistics.\n",
    "x = pd.read_csv('https://apmonitor.com/che263/uploads/Main/dynamics.txt')\n",
    "print(x.tail())"
   ]
  },
  {
   "cell_type": "code",
   "execution_count": 9,
   "metadata": {},
   "outputs": [],
   "source": [
    "# Obtains t and t values\n",
    "t = x['time (min)'].values\n",
    "y = x['y'].values"
   ]
  },
  {
   "cell_type": "markdown",
   "metadata": {},
   "source": [
    "Conditional statements are used to direct the flow of the program to different commands based on whether a statement is ```True``` or ```False```. A boolean (```True``` or ```False```) is used to direct the flow with an ```if```, ```elif``` (else if), or ```else``` parts to the statement.\n",
    "\n",
    "```python\n",
    "x = 5\n",
    "if (x<3):\n",
    "    print('less than 3')\n",
    "elif (x<4):\n",
    "    print('between 3 and 4')\n",
    "else:\n",
    "    print('greater than 4')\n",
    "```\n",
    "\n",
    "As the value of ```x``` changes, a different message is printed. \n",
    "\n",
    "There is a switching function that equals *zero* when time is less than the dead-time $(\\theta)$ and equals *one* when time is greater than or equal to the dead-time.\n",
    "\n",
    "$S(t-\\theta) = \\left[ {\\begin{array}{c} 0 \\, \\mathrm{when} \\, t \\lt \\theta \\\\ 1 \\, \\mathrm{when} \\, t\\ge \\theta \\end{array} } \\right]$"
   ]
  },
  {
   "cell_type": "code",
   "execution_count": 10,
   "metadata": {},
   "outputs": [
    {
     "name": "stdout",
     "output_type": "stream",
     "text": [
      "[0. 0. 0. 0. 1. 1. 1. 1. 1. 1. 1. 1. 1.]\n"
     ]
    }
   ],
   "source": [
    "# With an initial guess of $\\theta$ = 0.4, calculate the value of $S(t-\\theta)$ for all time points in the data.\n",
    "theta = 0.4\n",
    "n = len (t)\n",
    "S = np.empty(n)\n",
    "\n",
    "for i in range(n):\n",
    "    if t[i] < theta:\n",
    "        S [i] = 0\n",
    "    else:\n",
    "        S [i] = 1\n",
    "    \n",
    "print(S)"
   ]
  },
  {
   "cell_type": "markdown",
   "metadata": {},
   "source": [
    "***Action:*** Define a function ```yfcn``` that has input arguments of ```t``` (time), ```tau``` ($\\tau$), and ```theta``` ($\\theta).\n",
    "\n",
    "```python\n",
    "def yfcn(t,tau,theta):\n",
    "```\n",
    "\n",
    "The function should return the predicted ```y(t)``` values as a Numpy array."
   ]
  },
  {
   "cell_type": "code",
   "execution_count": 11,
   "metadata": {},
   "outputs": [
    {
     "name": "stdout",
     "output_type": "stream",
     "text": [
      "[-0.         -0.          0.          0.1639195   0.32246507  0.47581291\n",
      "  0.6241334   0.76759138  0.90634623  1.04055217  1.17035831  1.2959089\n",
      "  1.41734345]\n"
     ]
    }
   ],
   "source": [
    "# Define a function yp\n",
    "\n",
    "def yp(t, tau, theta):\n",
    "    z = 5.0 * (1-np.exp(-(t-theta)/tau))\n",
    "    for i in range(n):\n",
    "        if t[i] < theta:\n",
    "            S [i] = 0\n",
    "        else:\n",
    "            S [i] = 1\n",
    "    return z*S\n",
    "\n",
    "print(yp(t, 3, 0.2))"
   ]
  },
  {
   "cell_type": "markdown",
   "metadata": {},
   "source": [
    "***Action:*** Find the constants, $\\tau$ and $\\theta$, to best fit the process data, y(t).\n",
    "\n",
    "$y(t)=5 \\left( 1-\\exp{\\left(-\\frac{t-\\theta}{\\tau}\\right)} \\right) S(t-\\theta)$\n",
    "\n",
    "Use ```scipy.optimize.curve_fit``` to find a solution:\n"
   ]
  },
  {
   "cell_type": "code",
   "execution_count": 12,
   "metadata": {},
   "outputs": [
    {
     "data": {
      "text/plain": [
       "array([0.19219009, 0.10660599])"
      ]
     },
     "execution_count": 12,
     "metadata": {},
     "output_type": "execute_result"
    }
   ],
   "source": [
    "# fit the data to find the constants,  𝜏  and  𝜃 , to best fit the process data, y(t).\n",
    "c,cov = curve_fit(yp, t, y)\n",
    "c"
   ]
  },
  {
   "cell_type": "code",
   "execution_count": 13,
   "metadata": {},
   "outputs": [
    {
     "data": {
      "text/plain": [
       "array([-0.        , -0.        ,  1.924425  ,  3.17208921,  3.91361522,\n",
       "        4.35432741,  4.61625651,  4.77192919,  4.86445036,  4.91943859,\n",
       "        4.95211983,  4.97154331,  4.98308729])"
      ]
     },
     "execution_count": 13,
     "metadata": {},
     "output_type": "execute_result"
    }
   ],
   "source": [
    "#optimization value\n",
    "yopt = yp(t, c[0], c[1])\n",
    "yopt"
   ]
  },
  {
   "cell_type": "code",
   "execution_count": 14,
   "metadata": {},
   "outputs": [
    {
     "name": "stdout",
     "output_type": "stream",
     "text": [
      "R^2:  0.9993662868109856\n"
     ]
    }
   ],
   "source": [
    "# Calculate the  𝑅2  value for the fit.\n",
    "print('R^2: ', r2_score(yopt, y))"
   ]
  },
  {
   "cell_type": "code",
   "execution_count": 15,
   "metadata": {},
   "outputs": [
    {
     "data": {
      "text/plain": [
       "Text(0, 0.5, 'Valve')"
      ]
     },
     "execution_count": 15,
     "metadata": {},
     "output_type": "execute_result"
    },
    {
     "data": {
      "image/png": "[encoded data removed]",
      "text/plain": [
       "<Figure size 432x288 with 1 Axes>"
      ]
     },
     "metadata": {
      "needs_background": "light"
     },
     "output_type": "display_data"
    }
   ],
   "source": [
    "# Generate a plot that shows the data and the function with the optimized parameters.\n",
    "plt.plot(t, y, 'r.', label = 'Measured')\n",
    "plt.plot(t, yopt, 'b-', label = 'Predicted')\n",
    "plt.legend()\n",
    "plt.xlabel('Time')\n",
    "plt.ylabel('Valve')"
   ]
  },
  {
   "cell_type": "markdown",
   "metadata": {},
   "source": [
    "## Problem # 4-3 Curve_fit with random number\n",
    "\n",
    "Random numbers are important to simulate a physical process where there is a random fluctuation of the values. Some of the common random number generators in Numpy are shown in the table below.\n",
    "\n",
    "| ***Function*** | ***Description*** |\n",
    "| --- | --- |\n",
    "| rand | Uniformly distributed values |\n",
    "| randn | Normally distributed values |\n",
    "| randint | Uniformly distributed integers in a given range |\n",
    "\n",
    "A few examples are listed below:\n",
    "\n",
    "*Generate two random numbers between 0 and 1*\n",
    "\n",
    "```python\n",
    "import numpy as np\n",
    "print(np.random.rand(2))\n",
    "Result: [0.90411793 0.01642428]\n",
    "```\n",
    "\n",
    "*Generate a random number between -1 and 1*\n",
    "\n",
    "```python\n",
    "print(np.random.rand()*2.0-1.0)\n",
    "Result: -0.34398648976057977\n",
    "```\n",
    "\n",
    "*Generate a random integer between 1 and 10*\n",
    "\n",
    "```python\n",
    "print(np.random.randint(0,10)+1)\n",
    "Result: 4\n",
    "```\n",
    "\n",
    "*Generate 50 normally distributed values and create a histogram bar chart to view the distribution.*\n",
    "\n",
    "***Action:*** Increase the number of normally distributed points to ```n=1000``` and re-generate the plot."
   ]
  },
  {
   "cell_type": "code",
   "execution_count": 16,
   "metadata": {},
   "outputs": [
    {
     "name": "stdout",
     "output_type": "stream",
     "text": [
      "[-5.5 -5.  -4.5 -4.  -3.5 -3.  -2.5 -2.  -1.5 -1.  -0.5  0.   0.5  1.\n",
      "  1.5  2.   2.5  3.   3.5  4.   4.5  5.   5.5]\n"
     ]
    },
    {
     "data": {
      "image/png": "[encoded data removed]",
      "text/plain": [
       "<Figure size 432x288 with 1 Axes>"
      ]
     },
     "metadata": {
      "needs_background": "light"
     },
     "output_type": "display_data"
    }
   ],
   "source": [
    "import numpy as np\n",
    "%matplotlib inline\n",
    "import matplotlib.pyplot as plt\n",
    "\n",
    "#Generate 50 Normally distributed random number\n",
    "n = 50\n",
    "x = np.random.randn(n)\n",
    "\n",
    "# count number in each bin\n",
    "bins=np.linspace(-5.5,5.5,23)\n",
    "print(bins)\n",
    "hist, _ = np.histogram(x, bins)\n",
    "\n",
    "# plot histogram data\n",
    "plt.bar(bins[0:-1]+0.25,hist,label=str(n)+' samples')\n",
    "plt.plot(bins[0:-1]+0.25,hist,'r-',lw=5)\n",
    "plt.xlabel('bin')\n",
    "plt.ylabel('count')\n",
    "plt.title('Normal Distribution')\n",
    "plt.legend(loc='best')\n",
    "plt.show()"
   ]
  },
  {
   "cell_type": "markdown",
   "metadata": {},
   "source": [
    "***Action:*** Create 1000 random numbers with a Poisson distribution using ```lambda = 1```. Use the ```np.random.poisson(lam,n)``` function."
   ]
  },
  {
   "cell_type": "code",
   "execution_count": 17,
   "metadata": {},
   "outputs": [
    {
     "data": {
      "text/plain": [
       "array([2, 2, 1, 0, 2, 0, 0, 0, 1, 2, 0, 2, 1, 0, 0, 0, 1, 0, 1, 1])"
      ]
     },
     "execution_count": 17,
     "metadata": {},
     "output_type": "execute_result"
    }
   ],
   "source": [
    "x = np.random.poisson (1, 100000)\n",
    "x[0:20]"
   ]
  },
  {
   "cell_type": "markdown",
   "metadata": {},
   "source": [
    "***Action:*** Use bins (0,1,2,3,4,5) to determine the frequency at which a number appears. Use the ```np.histogram``` function to count the number in each bin.\n",
    "\n",
    "```python\n",
    "bins=[0,1,2,3,4,5,6]\n",
    "hist, _ = np.histogram(x, bins)\n",
    "```"
   ]
  },
  {
   "cell_type": "code",
   "execution_count": 18,
   "metadata": {},
   "outputs": [
    {
     "data": {
      "text/plain": [
       "array([36774, 36907, 18381,  6078,  1525,   325], dtype=int64)"
      ]
     },
     "execution_count": 18,
     "metadata": {},
     "output_type": "execute_result"
    }
   ],
   "source": [
    "bins = [0, 1, 2, 3, 4, 5, 6]\n",
    "hist, _ = np.histogram(x, bins)\n",
    "hist"
   ]
  },
  {
   "cell_type": "markdown",
   "metadata": {},
   "source": [
    "***Action:*** Plot the number in each bin with a column plot (total count versus bin). Use the ```plt.bar``` function in ```maplotlib.pyplot```.  Remove the last bin value so that the size of ```hist``` corresponds to the number of bins plotted as ```plt.bar(bins[0:-1],hist)```, where ```bins[0:-1]=[0,1,2,3,4,5]```."
   ]
  },
  {
   "cell_type": "code",
   "execution_count": 19,
   "metadata": {},
   "outputs": [
    {
     "data": {
      "image/png": "[encoded data removed]",
      "text/plain": [
       "<Figure size 432x288 with 1 Axes>"
      ]
     },
     "metadata": {
      "needs_background": "light"
     },
     "output_type": "display_data"
    }
   ],
   "source": [
    "# plot histogram data\n",
    "plt.bar(bins[0:-1],hist,label=str(10000)+' samples')\n",
    "plt.xlabel('bin')\n",
    "plt.ylabel('count')\n",
    "plt.title('Poisson Distribution')\n",
    "plt.legend(loc='best')\n",
    "plt.show()"
   ]
  },
  {
   "cell_type": "code",
   "execution_count": null,
   "metadata": {},
   "outputs": [],
   "source": []
  }
 ],
 "metadata": {
  "kernelspec": {
   "display_name": "Python 3",
   "language": "python",
   "name": "python3"
  },
  "language_info": {
   "codemirror_mode": {
    "name": "ipython",
    "version": 3
   },
   "file_extension": ".py",
   "mimetype": "text/x-python",
   "name": "python",
   "nbconvert_exporter": "python",
   "pygments_lexer": "ipython3",
   "version": "3.8.3"
  }
 },
 "nbformat": 4,
 "nbformat_minor": 2
}
